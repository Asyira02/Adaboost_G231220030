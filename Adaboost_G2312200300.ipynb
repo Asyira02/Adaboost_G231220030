{
  "nbformat": 4,
  "nbformat_minor": 0,
  "metadata": {
    "colab": {
      "provenance": []
    },
    "kernelspec": {
      "name": "python3",
      "display_name": "Python 3"
    },
    "language_info": {
      "name": "python"
    }
  },
  "cells": [
    {
      "cell_type": "code",
      "execution_count": null,
      "metadata": {
        "id": "pPZjBBtg-VwR"
      },
      "outputs": [],
      "source": [
        "#Load libraries\n",
        "from sklearn.ensemble import AdaBoostClassifier\n",
        "from sklearn import datasets\n",
        "#Import train_test_split function\n",
        "from sklearn.model_selection import train_test_split\n",
        "#Import scikit-learn metrics module for accuracy calculation\n",
        "from sklearn import metrics"
      ]
    },
    {
      "cell_type": "code",
      "source": [
        "#Load data\n",
        "iris = datasets.load_iris()\n",
        "X = iris.data\n",
        "y = iris.target"
      ],
      "metadata": {
        "id": "iNgUE-QYAijY"
      },
      "execution_count": null,
      "outputs": []
    },
    {
      "cell_type": "code",
      "source": [
        "#split dataset into training set  and test set\n",
        "x_train,x_test, y_train, y_test = train_test_split(x, y, test_size=0.3) # 70% training and 30% test"
      ],
      "metadata": {
        "id": "ieF_9B9PA0XW"
      },
      "execution_count": null,
      "outputs": []
    },
    {
      "cell_type": "code",
      "source": [
        "#create adaboost classifer object\n",
        "abc = AdaBoostClassifier(n_estimators=50,learning_rate=1)\n",
        "#train adaboost classifier\n",
        "model = abc.fit(x_train, y_train)\n",
        "#predict the response for test dataset\n",
        "y_pred = model.predict(x_test)"
      ],
      "metadata": {
        "id": "TQd40hOH1_j3"
      },
      "execution_count": null,
      "outputs": []
    },
    {
      "cell_type": "code",
      "source": [
        "#model accuracy, how often is the classifier correct?\n",
        "print(\"Accuracy:\",metrics.accuracy_score(y_test, y_pred))"
      ],
      "metadata": {
        "id": "eL61JrBW2Aui"
      },
      "execution_count": null,
      "outputs": []
    },
    {
      "cell_type": "code",
      "source": [
        "!git clone https://github.com/eriklindernoren/ML-From-Scratch"
      ],
      "metadata": {
        "id": "VKC8nTFj2ChK"
      },
      "execution_count": null,
      "outputs": []
    },
    {
      "cell_type": "code",
      "source": [
        "import sys\n",
        "sys.path.append('/content/ML-From-Scratch')"
      ],
      "metadata": {
        "id": "jSl4gJpt2GiI"
      },
      "execution_count": null,
      "outputs": []
    },
    {
      "cell_type": "code",
      "source": [
        "import sys\n",
        "sys.path.append('/content/ML-From-Scratch/mlfromscratch')"
      ],
      "metadata": {
        "id": "jLWIHqgE2Hwe"
      },
      "execution_count": null,
      "outputs": []
    },
    {
      "cell_type": "code",
      "source": [
        "from __future__ import division, print_function\n",
        "import numpy as np\n",
        "import math\n",
        "from sklearn import datasets\n",
        "import matplotlib.pyplot as plt\n",
        "import pandas as pd\n",
        "# Mengimpor fungsi helper dari modul kustom\n",
        "from m1fromscratch.utils import train_test_split, accuracy_score, plot\n",
        "\n",
        "# Decision stump digunakan sebagai weak classifier dalam implementasi Adaboost ini\n",
        "class DecisionStump():\n",
        "    def __init__(self):\n",
        "        # Menentukan apakah sampel akan diklasifikasikan sebagai -1 atau 1 berdasarkan threshold\n",
        "        self.polarity = 1\n",
        "        # Indeks fitur yang digunakan untuk membuat klasifikasi\n",
        "        self.feature_index = None\n",
        "        # Nilai threshold yang harus diukur oleh fitur\n",
        "        self.threshold = None\n",
        "        # Nilai yang menunjukkan akurasi classifier\n",
        "        self.alpha = None\n",
        "\n",
        "class Adaboost():\n",
        "    \"\"\"Boosting method yang menggunakan sejumlah weak classifier dalam ensemble untuk membuat classifier yang kuat.\n",
        "    Implementasi ini menggunakan decision stumps, yang merupakan decision tree satu tingkat.\n",
        "\n",
        "    Parameter:\n",
        "    -----------\n",
        "    n_clf: int\n",
        "        Jumlah weak classifier yang akan digunakan.\n",
        "    \"\"\"\n",
        "    import numpy as np\n",
        "\n",
        "class MyClassifier:\n",
        "    def __init__(self, n_clf=5):\n",
        "        self.n_clf = n_clf\n",
        "\n",
        "    def fit(self, x, y):\n",
        "        n_samples, n_features = np.shape(x)\n",
        "        # Tambahkan kode untuk melatih model di sini\n",
        "        print(f\"Jumlah sampel: {n_samples}, Jumlah fitur: {n_features}\")"
      ],
      "metadata": {
        "id": "VN_dUOW92Ltl"
      },
      "execution_count": null,
      "outputs": []
    }
  ]
}